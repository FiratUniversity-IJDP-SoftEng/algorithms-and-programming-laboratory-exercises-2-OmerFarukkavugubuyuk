{
  "cells": [
    {
      "cell_type": "markdown",
      "metadata": {
        "id": "ytbzyl3rnDRY"
      },
      "source": [
        "# Python Turtle Exercises\n",
        "\n",
        "This assignment aims to improve your algorithmic skills by drawing various geometric patterns using the Python Turtle library.  \n",
        "Each exercise includes a description and a code cell for your solutions.\n",
        "\n",
        "# Exercise 1: Drawing a Star\n",
        "## Description:\n",
        "Design an algorithm to draw a five-pointed star. Calculate the angle and line length correctly."
      ]
    },
    {
      "cell_type": "code",
      "execution_count": 1,
      "metadata": {
        "id": "3uUSg4xJnUAw"
      },
      "outputs": [],
      "source": [
        "import turtle\n",
        "wn = turtle.Screen()\n",
        "wn.bgcolor(\"white\")\n",
        "tess = turtle.Turtle()\n",
        "tess.color(\"blue\")\n",
        "\n",
        "for i in range(5):\n",
        "    tess.forward(50)\n",
        "    tess.right(144)\n",
        "\n",
        "wn.mainloop()"
      ]
    },
    {
      "cell_type": "markdown",
      "metadata": {
        "id": "tGUI2TbgnZYu"
      },
      "source": [
        "# Exercise 2: Drawing a Spiral Square\n",
        "## Description:\n",
        "Design an algorithm to draw a spiral square with increasing side lengths. Consider how to change the turtle's turning angle and movement distance after each square."
      ]
    },
    {
      "cell_type": "code",
      "execution_count": 1,
      "metadata": {
        "id": "UAinAy64neJ9"
      },
      "outputs": [],
      "source": [
        "import turtle\n",
        "wn = turtle.Screen()\n",
        "wn.bgcolor(\"white\")\n",
        "tess = turtle.Turtle()\n",
        "tess.speed(100)\n",
        "j=10\n",
        "\n",
        "for i in range(10):\n",
        "    tess.forward(j)\n",
        "    tess.left(90)\n",
        "    tess.forward(j)\n",
        "    tess.left(90)\n",
        "    tess.forward(j)\n",
        "    tess.left(90)\n",
        "    tess.forward(j)\n",
        "    tess.left(95)\n",
        "    j=j*1.3\n",
        "\n",
        "wn.mainloop()"
      ]
    },
    {
      "cell_type": "markdown",
      "metadata": {
        "id": "9u3aYlazngbx"
      },
      "source": [
        "# Exercise 3: Drawing Nested Polygons\n",
        "## Description:\n",
        "Design an algorithm to draw nested polygons with the same center and number of sides. Consider how to adjust the size of each polygon and position the turtle while drawing."
      ]
    },
    {
      "cell_type": "code",
      "execution_count": 1,
      "metadata": {
        "id": "GvJ5VlvJnoDz"
      },
      "outputs": [],
      "source": [
        "\n",
        "import turtle\n",
        "wn = turtle.Screen()\n",
        "wn.bgcolor(\"white\")\n",
        "tess = turtle.Turtle()\n",
        "tess.speed(8)\n",
        "\n",
        "tess.penup()\n",
        "angle = 60\n",
        "    \n",
        "for i in range(5):\n",
        "    size = 30 + (i * 20)\n",
        "    start_x = -size/2\n",
        "    tess.goto(start_x, 0)\n",
        "    tess.pendown()\n",
        "    tess.color(\"blue\")\n",
        "       \n",
        "    for _ in range(6):\n",
        "        tess.forward(size)\n",
        "        tess.left(angle)\n",
        "            \n",
        "    tess.penup()\n",
        "wn.mainloop()\n"
      ]
    },
    {
      "cell_type": "markdown",
      "metadata": {
        "id": "w4S_F7XJnpYI"
      },
      "source": [
        "# Exercise 4: Drawing a Colorful Spiral\n",
        "## Description:\n",
        "Design an algorithm to draw a spiral using different colors. Consider how to change the color at each step and create the spiral shape."
      ]
    },
    {
      "cell_type": "code",
      "execution_count": 1,
      "metadata": {
        "id": "e4KCcVxpnuUn"
      },
      "outputs": [],
      "source": [
        "\n",
        "import turtle\n",
        "wn = turtle.Screen()\n",
        "wn.bgcolor(\"black\")\n",
        "tess = turtle.Turtle()\n",
        "tess.speed(100)\n",
        "colors = [\"red\", \"orange\", \"yellow\", \"green\", \"blue\", \"purple\"]\n",
        "    \n",
        "for i in range(100):\n",
        "    tess.pencolor(colors[i % len(colors)])\n",
        "    tess.forward(i * 3)\n",
        "    tess.right(61)  \n",
        "\n",
        "wn.mainloop()"
      ]
    },
    {
      "cell_type": "markdown",
      "metadata": {
        "id": "U4JZEptVn74m"
      },
      "source": [
        "# Exercise 5: Drawing a Random Pattern\n",
        "## Description:\n",
        "Design an algorithm to create an interesting pattern by randomly changing the turtle's movements and properties (color, thickness, etc.). Think about how to use randomness and vary different parameters."
      ]
    },
    {
      "cell_type": "code",
      "execution_count": 1,
      "metadata": {
        "id": "4nk33NI8m9s1"
      },
      "outputs": [],
      "source": [
        "import turtle\n",
        "import random\n",
        "\n",
        "wn = turtle.Screen()\n",
        "wn.bgcolor(\"black\")\n",
        "\n",
        "t = turtle.Turtle()\n",
        "t.speed(0) \n",
        "t.width(2)\n",
        "\n",
        "\n",
        "for _ in range(100): \n",
        "    t.color(random.random(),random.random(),random.random())  \n",
        "    t.width(random.randint(1, 5))  \n",
        "    t.forward(random.randint(10, 30))\n",
        "    t.right(random.randint(0, 360)) \n",
        "\n",
        "\n",
        "wn.mainloop()\n"
      ]
    }
  ],
  "metadata": {
    "accelerator": "GPU",
    "colab": {
      "gpuType": "T4",
      "provenance": []
    },
    "kernelspec": {
      "display_name": "Python 3",
      "language": "python",
      "name": "python3"
    },
    "language_info": {
      "codemirror_mode": {
        "name": "ipython",
        "version": 3
      },
      "file_extension": ".py",
      "mimetype": "text/x-python",
      "name": "python",
      "nbconvert_exporter": "python",
      "pygments_lexer": "ipython3",
      "version": "3.12.2"
    }
  },
  "nbformat": 4,
  "nbformat_minor": 0
}
